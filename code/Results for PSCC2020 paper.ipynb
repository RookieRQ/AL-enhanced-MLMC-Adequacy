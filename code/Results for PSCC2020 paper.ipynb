{
 "cells": [
  {
   "cell_type": "markdown",
   "metadata": {},
   "source": [
    "# Accelerating System Adequacy Assessment using the Multilevel Monte Carlo Approach\n",
    "Author: Simon Tindemans, s.h.tindemans@tudelft.nl, Delft University of Technology, 2019-2020.\n",
    "Released under the MIT license.\n",
    "\n",
    "This notebook generates results that are similar\\* to those in the paper *Accelerating System Adequacy Assessment using the Multilevel Monte Carlo Approach* by Simon Tindemans and Goran Strbac, to be presented at the PSCC 2020 conference. \n",
    "\n",
    "A preprint of the paper is available here: https://arxiv.org/abs/1910.13013. If you use (portions of) this code, please reference the published paper.\n",
    "\n",
    "\\*: Similarity only due to dependence on execution time"
   ]
  },
  {
   "cell_type": "code",
   "execution_count": 1,
   "metadata": {},
   "outputs": [],
   "source": [
    "import numpy as np\n",
    "import logging\n",
    "import pandas as pd"
   ]
  },
  {
   "cell_type": "code",
   "execution_count": 2,
   "metadata": {},
   "outputs": [],
   "source": [
    "import MCCoordinator\n",
    "import HL12Sampler\n",
    "import StorageSampler"
   ]
  },
  {
   "cell_type": "code",
   "execution_count": 3,
   "metadata": {},
   "outputs": [],
   "source": [
    "# initialise logging facility\n",
    "log = logging.getLogger(__name__)\n",
    "log.setLevel(logging.INFO)\n",
    "    # initialise global logging facility\n",
    "\n",
    "logging.basicConfig(level=logging.INFO)\n"
   ]
  },
  {
   "cell_type": "markdown",
   "metadata": {},
   "source": [
    "# RTS Case study"
   ]
  },
  {
   "cell_type": "code",
   "execution_count": 4,
   "metadata": {},
   "outputs": [],
   "source": [
    "def load_grid(base_name, **kwargs):\n",
    "    \"\"\"Instantiates an RTS system, after loading parameters from file.\"\"\"\n",
    "    line_filename = \"%s-lines.txt\" % base_name\n",
    "    line_data = np.genfromtxt(line_filename, dtype=(int, int, float, float, float, float))\n",
    "\n",
    "    node_filename = \"%s-nodes.txt\" % base_name\n",
    "    node_data = np.genfromtxt(node_filename, dtype=float)\n",
    "\n",
    "    generator_filename = \"%s-generators.txt\" % base_name\n",
    "    generator_data = np.genfromtxt(generator_filename, dtype=(float, int, float))\n",
    "\n",
    "    load_profile_filename = \"%s-load-profile.txt\" % base_name\n",
    "    load_profile_data = np.loadtxt(load_profile_filename)\n",
    "    load_profile_data *= 1.0 / load_profile_data.max()\n",
    "\n",
    "    return HL12Sampler.HLSystem(node_data, line_data, generator_data, load_profile_data, **kwargs)"
   ]
  },
  {
   "cell_type": "code",
   "execution_count": 5,
   "metadata": {},
   "outputs": [],
   "source": [
    "RTS_system = load_grid('../data/RTS/RTS', line_capacity_scaling=0.8, line_for_scaling=1)"
   ]
  },
  {
   "cell_type": "markdown",
   "metadata": {},
   "source": [
    "## Reference: simple MC\n",
    "\n",
    "Used in Table I, Table II, Table IV"
   ]
  },
  {
   "cell_type": "code",
   "execution_count": 6,
   "metadata": {
    "scrolled": false
   },
   "outputs": [
    {
     "name": "stdout",
     "output_type": "stream",
     "text": [
      "Running: {frozenset({'HL2full'}): 100}\n",
      "relative sample numbers:  {frozenset({'HL2full'}): 1.0}\n",
      "Running: {frozenset({'HL2full'}): 7990}\n",
      "relative sample numbers:  {frozenset({'HL2full'}): 121.81010572188843}\n",
      "Running: {frozenset({'HL2full'}): 10868}\n",
      "relative sample numbers:  {frozenset({'HL2full'}): 130.4519106991025}\n",
      "Running: {frozenset({'HL2full'}): 10713}\n",
      "relative sample numbers:  {frozenset({'HL2full'}): 134.39131159262914}\n",
      "Running: {frozenset({'HL2full'}): 10890}\n",
      "relative sample numbers:  {frozenset({'HL2full'}): 128.35238247963477}\n",
      "Running: {frozenset({'HL2full'}): 10961}\n",
      "relative sample numbers:  {frozenset({'HL2full'}): 118.95116216746976}\n",
      "Running: {frozenset({'HL2full'}): 10978}\n",
      "relative sample numbers:  {frozenset({'HL2full'}): 114.63099120263082}\n",
      "Running: {frozenset({'HL2full'}): 10997}\n",
      "relative sample numbers:  {frozenset({'HL2full'}): 109.29699700345202}\n",
      "Running: {frozenset({'HL2full'}): 11017}\n",
      "relative sample numbers:  {frozenset({'HL2full'}): 108.3405552565517}\n",
      "Running: {frozenset({'HL2full'}): 10989}\n",
      "relative sample numbers:  {frozenset({'HL2full'}): 103.53742370437541}\n",
      "Running: {frozenset({'HL2full'}): 11007}\n"
     ]
    }
   ],
   "source": [
    "mcc = MCCoordinator.MCCoordinator(RTS_system, ml_hierarchy=['HL2full'], use_expectations=True, use_joblib=False, joblib_batch_size=100)\n",
    "mcc.explore(n_samples=100)\n",
    "for i in range(10):\n",
    "    mcc.run_recommended(time_seconds=60, optimization_target='EPNS', verbose=False)"
   ]
  },
  {
   "cell_type": "code",
   "execution_count": 7,
   "metadata": {},
   "outputs": [
    {
     "name": "stdout",
     "output_type": "stream",
     "text": [
      "\n",
      "Wall clock time: 582.0 s \tTotal sample generation: 580.0 s \tIndex specialisation: 577.0 s\n",
      "LOLP : 0.001709  +- 0.00013  \tcomputational speed:  0.313 \testimated speedup:  0.998\n",
      "EPNS : 0.2378 MW +- 0.024 MW \tcomputational speed:  0.173 \testimated speedup:  0.998\n",
      "\n",
      "Index set and time estimates:\n",
      "HL2full : 0.0054 s\n",
      "\n",
      "\n",
      "RESULTS BY ML INDEX\n",
      "index: HL2full \tcount:  106510 \tavg specialisation time: 5.42 ms\n",
      "\t LOLP : 0.001709  \t+- 0.00013 \n",
      "\t EPNS : 0.2378 MW \t+- 0.024 MW\n",
      "\n",
      "RESULTS BY SET\n",
      "{'HL2full'} \tcount:  106510 \tavg exec time:  5.45 ms\n",
      "\n",
      "RESULTS BY TELESCOPIC TERM\n",
      "{'HL2full'}\n",
      "\t LOLP contribution: 0.001709  \t+- 0.00013  \tsample correlation: n/a\n",
      "\t EPNS contribution: 0.2378 MW \t+- 0.024 MW \tsample correlation: n/a\n"
     ]
    }
   ],
   "source": [
    "mcc.verbose_result()"
   ]
  },
  {
   "cell_type": "markdown",
   "metadata": {},
   "source": [
    "# HL2 full\n",
    "\n",
    "Used in Table II, Table III, Table IV"
   ]
  },
  {
   "cell_type": "code",
   "execution_count": 8,
   "metadata": {
    "scrolled": false
   },
   "outputs": [
    {
     "name": "stdout",
     "output_type": "stream",
     "text": [
      "Running: {frozenset({'HL1', 'HL2full'}): 100, frozenset({'HL1'}): 100}\n",
      "relative sample numbers:  {frozenset({'HL1', 'HL2full'}): 1.0, frozenset({'HL1'}): 1.0}\n",
      "Running: {frozenset({'HL1', 'HL2full'}): 10962, frozenset({'HL1'}): 10962}\n",
      "relative sample numbers:  {frozenset({'HL1', 'HL2full'}): 32.46702973057098, frozenset({'HL1'}): 0.0}\n",
      "Running: {frozenset({'HL1', 'HL2full'}): 11162, frozenset({'HL1'}): 1}\n",
      "relative sample numbers:  {frozenset({'HL1', 'HL2full'}): 26.907360009664206, frozenset({'HL1'}): 0.0}\n",
      "Running: {frozenset({'HL1', 'HL2full'}): 11097, frozenset({'HL1'}): 1}\n",
      "relative sample numbers:  {frozenset({'HL1', 'HL2full'}): 25.724508257700947, frozenset({'HL1'}): 0.0}\n",
      "Running: {frozenset({'HL1', 'HL2full'}): 11124, frozenset({'HL1'}): 1}\n",
      "relative sample numbers:  {frozenset({'HL1', 'HL2full'}): 26.396291348885942, frozenset({'HL1'}): 0.0}\n",
      "Running: {frozenset({'HL1', 'HL2full'}): 11115, frozenset({'HL1'}): 1}\n",
      "relative sample numbers:  {frozenset({'HL1', 'HL2full'}): 26.061458372700518, frozenset({'HL1'}): 0.0}\n",
      "Running: {frozenset({'HL1', 'HL2full'}): 11117, frozenset({'HL1'}): 1}\n",
      "relative sample numbers:  {frozenset({'HL1', 'HL2full'}): 25.524927674401724, frozenset({'HL1'}): 0.0}\n",
      "Running: {frozenset({'HL1', 'HL2full'}): 11124, frozenset({'HL1'}): 1}\n",
      "relative sample numbers:  {frozenset({'HL1', 'HL2full'}): 26.85592658112457, frozenset({'HL1'}): 0.0}\n",
      "Running: {frozenset({'HL1', 'HL2full'}): 11122, frozenset({'HL1'}): 1}\n",
      "relative sample numbers:  {frozenset({'HL1', 'HL2full'}): 26.61031718700481, frozenset({'HL1'}): 0.0}\n",
      "Running: {frozenset({'HL1', 'HL2full'}): 11130, frozenset({'HL1'}): 1}\n",
      "relative sample numbers:  {frozenset({'HL1', 'HL2full'}): 28.08443227680378, frozenset({'HL1'}): 0.0}\n",
      "Running: {frozenset({'HL1', 'HL2full'}): 11131, frozenset({'HL1'}): 1}\n"
     ]
    }
   ],
   "source": [
    "mcc = MCCoordinator.MCCoordinator(RTS_system, ml_hierarchy=['HL2full', 'HL1'], use_expectations=True, use_joblib=False, joblib_batch_size=100)\n",
    "mcc.explore(n_samples=100)\n",
    "for i in range(10):\n",
    "    mcc.run_recommended(time_seconds=60, optimization_target='EPNS', verbose=False)"
   ]
  },
  {
   "cell_type": "code",
   "execution_count": 9,
   "metadata": {
    "scrolled": false
   },
   "outputs": [
    {
     "name": "stdout",
     "output_type": "stream",
     "text": [
      "\n",
      "Wall clock time: 601.0 s \tTotal sample generation: 599.0 s \tIndex specialisation: 596.0 s\n",
      "LOLP : 0.001457  +- 5.8e-05  \tcomputational speed:  1.04 \testimated speedup:  3.7\n",
      "EPNS : 0.1863 MW +- 0.0048 MW \tcomputational speed:  2.54 \testimated speedup:  18.1\n",
      "\n",
      "Index set and time estimates:\n",
      "HL2full : 0.0054 s\n",
      "HL1 : 0.0 s\n",
      "\n",
      "\n",
      "RESULTS BY ML INDEX\n",
      "index: HL1 \tcount:  111184 \tavg specialisation time: 0.0229 ms\n",
      "\t LOLP : 0.001079  \t+- 0.0 \n",
      "\t EPNS : 0.1346 MW \t+- 0.0 MW\n",
      "index: HL2full \tcount:  111184 \tavg specialisation time: 5.34 ms\n",
      "\t LOLP : 0.001403  \t+- 0.00011 \n",
      "\t EPNS : 0.1867 MW \t+- 0.02 MW\n",
      "\n",
      "RESULTS BY SET\n",
      "{'HL1', 'HL2full'} \tcount:  111184 \tavg exec time:  5.39 ms\n",
      "{'HL1'} \tcount:  0 \tavg exec time:  0.0 ms\n",
      "\n",
      "RESULTS BY TELESCOPIC TERM\n",
      "{'HL1', 'HL2full'}\n",
      "\t LOLP contribution: 0.0003778  \t+- 5.8e-05  \tsample correlation: 0.855\n",
      "\t EPNS contribution: 0.05165 MW \t+- 0.0048 MW \tsample correlation: 0.983\n",
      "{'HL1'}\n",
      "\t LOLP contribution: 0.001079  \t+- 0.0  \tsample correlation: n/a\n",
      "\t EPNS contribution: 0.1346 MW \t+- 0.0 MW \tsample correlation: n/a\n"
     ]
    }
   ],
   "source": [
    "mcc.verbose_result()"
   ]
  },
  {
   "cell_type": "markdown",
   "metadata": {},
   "source": [
    "# HL2 full - no expectation\n",
    "Used in Table II"
   ]
  },
  {
   "cell_type": "code",
   "execution_count": 10,
   "metadata": {
    "scrolled": false
   },
   "outputs": [
    {
     "name": "stdout",
     "output_type": "stream",
     "text": [
      "Running: {frozenset({'HL1', 'HL2full'}): 1000, frozenset({'HL1'}): 1000}\n",
      "relative sample numbers:  {frozenset({'HL1', 'HL2full'}): 86.56682339482288, frozenset({'HL1'}): 3581.698353524935}\n",
      "Running: {frozenset({'HL1', 'HL2full'}): 8974, frozenset({'HL1'}): 371337}\n",
      "relative sample numbers:  {frozenset({'HL1', 'HL2full'}): 36.436918237415796, frozenset({'HL1'}): 1756.0837624376825}\n",
      "Running: {frozenset({'HL1', 'HL2full'}): 9229, frozenset({'HL1'}): 444828}\n",
      "relative sample numbers:  {frozenset({'HL1', 'HL2full'}): 29.738449107286193, frozenset({'HL1'}): 1434.6360384774873}\n",
      "Running: {frozenset({'HL1', 'HL2full'}): 9247, frozenset({'HL1'}): 446098}\n",
      "relative sample numbers:  {frozenset({'HL1', 'HL2full'}): 29.424799150312076, frozenset({'HL1'}): 1418.5196394030932}\n",
      "Running: {frozenset({'HL1', 'HL2full'}): 9236, frozenset({'HL1'}): 445269}\n",
      "relative sample numbers:  {frozenset({'HL1', 'HL2full'}): 30.651615173662208, frozenset({'HL1'}): 1477.1587396556608}\n",
      "Running: {frozenset({'HL1', 'HL2full'}): 9234, frozenset({'HL1'}): 445047}\n",
      "relative sample numbers:  {frozenset({'HL1', 'HL2full'}): 28.105242715871277, frozenset({'HL1'}): 1353.9528100180057}\n",
      "Running: {frozenset({'HL1', 'HL2full'}): 9234, frozenset({'HL1'}): 444851}\n",
      "relative sample numbers:  {frozenset({'HL1', 'HL2full'}): 26.376024625831313, frozenset({'HL1'}): 1270.7129187622663}\n",
      "Running: {frozenset({'HL1', 'HL2full'}): 9243, frozenset({'HL1'}): 445326}\n",
      "relative sample numbers:  {frozenset({'HL1', 'HL2full'}): 25.86856621653429, frozenset({'HL1'}): 1245.5830964740712}\n",
      "Running: {frozenset({'HL1', 'HL2full'}): 9253, frozenset({'HL1'}): 445561}\n",
      "relative sample numbers:  {frozenset({'HL1', 'HL2full'}): 26.42348855792644, frozenset({'HL1'}): 1271.9114659718043}\n",
      "Running: {frozenset({'HL1', 'HL2full'}): 9252, frozenset({'HL1'}): 445383}\n",
      "relative sample numbers:  {frozenset({'HL1', 'HL2full'}): 27.04415114764071, frozenset({'HL1'}): 1301.6052413587252}\n",
      "Running: {frozenset({'HL1', 'HL2full'}): 9256, frozenset({'HL1'}): 445494}\n"
     ]
    }
   ],
   "source": [
    "mcc = MCCoordinator.MCCoordinator(RTS_system, ml_hierarchy=['HL2full', 'HL1'], use_expectations=False, use_joblib=False, joblib_batch_size=100)\n",
    "mcc.explore(n_samples=1000)\n",
    "for i in range(10):\n",
    "    mcc.run_recommended(time_seconds=60, optimization_target='EPNS', verbose=False)"
   ]
  },
  {
   "cell_type": "code",
   "execution_count": 11,
   "metadata": {
    "scrolled": false
   },
   "outputs": [
    {
     "name": "stdout",
     "output_type": "stream",
     "text": [
      "\n",
      "Wall clock time: 627.0 s \tTotal sample generation: 605.0 s \tIndex specialisation: 554.0 s\n",
      "LOLP : 0.001498  +- 6.7e-05  \tcomputational speed:  0.793 \testimated speedup:  2.72\n",
      "EPNS : 0.1898 MW +- 0.0058 MW \tcomputational speed:  1.73 \testimated speedup:  10.3\n",
      "\n",
      "Index set and time estimates:\n",
      "HL2full : 0.0054 s\n",
      "HL1 : 2.3e-05 s\n",
      "\n",
      "\n",
      "RESULTS BY ML INDEX\n",
      "index: HL1 \tcount:  4473352 \tavg specialisation time: 0.0123 ms\n",
      "\t LOLP : 0.0011  \t+- 1.6e-05 \n",
      "\t EPNS : 0.139 MW \t+- 0.0027 MW\n",
      "index: HL2full \tcount:  93158 \tavg specialisation time: 5.36 ms\n",
      "\t LOLP : 0.001428  \t+- 0.00012 \n",
      "\t EPNS : 0.1821 MW \t+- 0.021 MW\n",
      "\n",
      "RESULTS BY SET\n",
      "{'HL1', 'HL2full'} \tcount:  93158 \tavg exec time:  5.41 ms\n",
      "{'HL1'} \tcount:  4380194 \tavg exec time:  0.0232 ms\n",
      "\n",
      "RESULTS BY TELESCOPIC TERM\n",
      "{'HL1', 'HL2full'}\n",
      "\t LOLP contribution: 0.0003972  \t+- 6.5e-05  \tsample correlation: 0.849\n",
      "\t EPNS contribution: 0.05066 MW \t+- 0.0051 MW \tsample correlation: 0.98\n",
      "{'HL1'}\n",
      "\t LOLP contribution: 0.001101  \t+- 1.6e-05  \tsample correlation: n/a\n",
      "\t EPNS contribution: 0.1392 MW \t+- 0.0027 MW \tsample correlation: n/a\n"
     ]
    }
   ],
   "source": [
    "mcc.verbose_result()"
   ]
  },
  {
   "cell_type": "markdown",
   "metadata": {},
   "source": [
    "## RTS - line scale 0.9\n",
    "\n",
    "Comparison of MLMC with conventional MC - Table IV"
   ]
  },
  {
   "cell_type": "code",
   "execution_count": 12,
   "metadata": {},
   "outputs": [],
   "source": [
    "RTS_system = load_grid('../data/RTS/RTS', line_capacity_scaling=0.9, line_for_scaling=1)"
   ]
  },
  {
   "cell_type": "code",
   "execution_count": 13,
   "metadata": {},
   "outputs": [
    {
     "name": "stdout",
     "output_type": "stream",
     "text": [
      "Running: {frozenset({'HL1', 'HL2full'}): 100, frozenset({'HL1'}): 100}\n",
      "relative sample numbers:  {frozenset({'HL1', 'HL2full'}): 1.0, frozenset({'HL1'}): 1.0}\n",
      "Running: {frozenset({'HL1', 'HL2full'}): 11259, frozenset({'HL1'}): 11259}\n",
      "relative sample numbers:  {frozenset({'HL1', 'HL2full'}): 29.399122516760194, frozenset({'HL1'}): 0.0}\n",
      "Running: {frozenset({'HL1', 'HL2full'}): 11210, frozenset({'HL1'}): 1}\n",
      "relative sample numbers:  {frozenset({'HL1', 'HL2full'}): 25.035392019464723, frozenset({'HL1'}): 0.0}\n",
      "Running: {frozenset({'HL1', 'HL2full'}): 11176, frozenset({'HL1'}): 1}\n",
      "relative sample numbers:  {frozenset({'HL1', 'HL2full'}): 26.55099065709211, frozenset({'HL1'}): 0.0}\n",
      "Running: {frozenset({'HL1', 'HL2full'}): 11178, frozenset({'HL1'}): 1}\n",
      "relative sample numbers:  {frozenset({'HL1', 'HL2full'}): 25.642775753065777, frozenset({'HL1'}): 0.0}\n",
      "Running: {frozenset({'HL1', 'HL2full'}): 11174, frozenset({'HL1'}): 1}\n",
      "relative sample numbers:  {frozenset({'HL1', 'HL2full'}): 25.901747619183663, frozenset({'HL1'}): 0.0}\n",
      "Running: {frozenset({'HL1', 'HL2full'}): 11178, frozenset({'HL1'}): 1}\n",
      "relative sample numbers:  {frozenset({'HL1', 'HL2full'}): 26.69797203329525, frozenset({'HL1'}): 0.0}\n",
      "Running: {frozenset({'HL1', 'HL2full'}): 11187, frozenset({'HL1'}): 1}\n",
      "relative sample numbers:  {frozenset({'HL1', 'HL2full'}): 27.519698496580627, frozenset({'HL1'}): 0.0}\n",
      "Running: {frozenset({'HL1', 'HL2full'}): 11176, frozenset({'HL1'}): 1}\n",
      "relative sample numbers:  {frozenset({'HL1', 'HL2full'}): 28.346260806442118, frozenset({'HL1'}): 0.0}\n",
      "Running: {frozenset({'HL1', 'HL2full'}): 11166, frozenset({'HL1'}): 1}\n",
      "relative sample numbers:  {frozenset({'HL1', 'HL2full'}): 29.488539817971333, frozenset({'HL1'}): 0.0}\n",
      "Running: {frozenset({'HL1', 'HL2full'}): 11164, frozenset({'HL1'}): 1}\n",
      "\n",
      "Wall clock time: 603.0 s \tTotal sample generation: 602.0 s \tIndex specialisation: 598.0 s\n",
      "LOLP : 0.001312  +- 4.6e-05  \tcomputational speed:  1.38 \testimated speedup:  5.6\n",
      "EPNS : 0.1676 MW +- 0.0032 MW \tcomputational speed:  4.69 \testimated speedup:  41.2\n",
      "\n",
      "Index set and time estimates:\n",
      "HL2full : 0.0054 s\n",
      "HL1 : 0.0 s\n",
      "\n",
      "\n",
      "RESULTS BY ML INDEX\n",
      "index: HL1 \tcount:  111968 \tavg specialisation time: 0.0229 ms\n",
      "\t LOLP : 0.001079  \t+- 0.0 \n",
      "\t EPNS : 0.1346 MW \t+- 0.0 MW\n",
      "index: HL2full \tcount:  111968 \tavg specialisation time: 5.32 ms\n",
      "\t LOLP : 0.001304  \t+- 0.00011 \n",
      "\t EPNS : 0.1815 MW \t+- 0.02 MW\n",
      "\n",
      "RESULTS BY SET\n",
      "{'HL1', 'HL2full'} \tcount:  111968 \tavg exec time:  5.37 ms\n",
      "{'HL1'} \tcount:  0 \tavg exec time:  0.0 ms\n",
      "\n",
      "RESULTS BY TELESCOPIC TERM\n",
      "{'HL1', 'HL2full'}\n",
      "\t LOLP contribution: 0.0002322  \t+- 4.6e-05  \tsample correlation: 0.906\n",
      "\t EPNS contribution: 0.03296 MW \t+- 0.0032 MW \tsample correlation: 0.992\n",
      "{'HL1'}\n",
      "\t LOLP contribution: 0.001079  \t+- 0.0  \tsample correlation: n/a\n",
      "\t EPNS contribution: 0.1346 MW \t+- 0.0 MW \tsample correlation: n/a\n"
     ]
    }
   ],
   "source": [
    "mcc = MCCoordinator.MCCoordinator(RTS_system, ml_hierarchy=['HL2full', 'HL1'], use_expectations=True, use_joblib=False, joblib_batch_size=100)\n",
    "mcc.explore(n_samples=100)\n",
    "for i in range(10):\n",
    "    mcc.run_recommended(time_seconds=60, optimization_target='EPNS', verbose=False)\n",
    "mcc.verbose_result()"
   ]
  },
  {
   "cell_type": "code",
   "execution_count": 14,
   "metadata": {},
   "outputs": [
    {
     "name": "stdout",
     "output_type": "stream",
     "text": [
      "Running: {frozenset({'HL2full'}): 100}\n",
      "relative sample numbers:  {frozenset({'HL2full'}): 1.0}\n",
      "Running: {frozenset({'HL2full'}): 11144}\n",
      "relative sample numbers:  {frozenset({'HL2full'}): 108.8044563753181}\n",
      "Running: {frozenset({'HL2full'}): 11217}\n",
      "relative sample numbers:  {frozenset({'HL2full'}): 100.08177135831447}\n",
      "Running: {frozenset({'HL2full'}): 11218}\n",
      "relative sample numbers:  {frozenset({'HL2full'}): 90.0817001769497}\n",
      "Running: {frozenset({'HL2full'}): 11224}\n",
      "relative sample numbers:  {frozenset({'HL2full'}): 86.78354026378999}\n",
      "Running: {frozenset({'HL2full'}): 11220}\n",
      "relative sample numbers:  {frozenset({'HL2full'}): 91.53300166894468}\n",
      "Running: {frozenset({'HL2full'}): 11222}\n",
      "relative sample numbers:  {frozenset({'HL2full'}): 90.81050963931158}\n",
      "Running: {frozenset({'HL2full'}): 11230}\n",
      "relative sample numbers:  {frozenset({'HL2full'}): 93.06526227328709}\n",
      "Running: {frozenset({'HL2full'}): 11231}\n",
      "relative sample numbers:  {frozenset({'HL2full'}): 94.42580994210196}\n",
      "Running: {frozenset({'HL2full'}): 11228}\n",
      "relative sample numbers:  {frozenset({'HL2full'}): 92.13927924771819}\n",
      "Running: {frozenset({'HL2full'}): 11231}\n",
      "\n",
      "Wall clock time: 601.0 s \tTotal sample generation: 600.0 s \tIndex specialisation: 597.0 s\n",
      "LOLP : 0.001381  +- 0.00011  \tcomputational speed:  0.258 \testimated speedup:  0.998\n",
      "EPNS : 0.1805 MW +- 0.02 MW \tcomputational speed:  0.14 \testimated speedup:  0.998\n",
      "\n",
      "Index set and time estimates:\n",
      "HL2full : 0.0053 s\n",
      "\n",
      "\n",
      "RESULTS BY ML INDEX\n",
      "index: HL2full \tcount:  112265 \tavg specialisation time: 5.32 ms\n",
      "\t LOLP : 0.001381  \t+- 0.00011 \n",
      "\t EPNS : 0.1805 MW \t+- 0.02 MW\n",
      "\n",
      "RESULTS BY SET\n",
      "{'HL2full'} \tcount:  112265 \tavg exec time:  5.34 ms\n",
      "\n",
      "RESULTS BY TELESCOPIC TERM\n",
      "{'HL2full'}\n",
      "\t LOLP contribution: 0.001381  \t+- 0.00011  \tsample correlation: n/a\n",
      "\t EPNS contribution: 0.1805 MW \t+- 0.02 MW \tsample correlation: n/a\n"
     ]
    }
   ],
   "source": [
    "\n",
    "mcc = MCCoordinator.MCCoordinator(RTS_system, ml_hierarchy=['HL2full'], use_expectations=True, use_joblib=False, joblib_batch_size=100)\n",
    "mcc.explore(n_samples=100)\n",
    "for i in range(10):\n",
    "    mcc.run_recommended(time_seconds=60, optimization_target='EPNS', verbose=False)\n",
    "mcc.verbose_result()"
   ]
  },
  {
   "cell_type": "markdown",
   "metadata": {},
   "source": [
    "## RTS - line scale 1.0\n",
    "\n",
    "Comparison between MLMC and regular MC - used in Table IV"
   ]
  },
  {
   "cell_type": "code",
   "execution_count": 15,
   "metadata": {},
   "outputs": [],
   "source": [
    "RTS_system = load_grid('../data/RTS/RTS', line_capacity_scaling=1.0, line_for_scaling=1)"
   ]
  },
  {
   "cell_type": "code",
   "execution_count": 16,
   "metadata": {},
   "outputs": [
    {
     "name": "stdout",
     "output_type": "stream",
     "text": [
      "Running: {frozenset({'HL1', 'HL2full'}): 100, frozenset({'HL1'}): 100}\n",
      "relative sample numbers:  {frozenset({'HL1', 'HL2full'}): 1.0, frozenset({'HL1'}): 1.0}\n",
      "Running: {frozenset({'HL1', 'HL2full'}): 11628, frozenset({'HL1'}): 11628}\n",
      "relative sample numbers:  {frozenset({'HL1', 'HL2full'}): 23.19421418611651, frozenset({'HL1'}): 0.0}\n",
      "Running: {frozenset({'HL1', 'HL2full'}): 11356, frozenset({'HL1'}): 1}\n",
      "relative sample numbers:  {frozenset({'HL1', 'HL2full'}): 18.96460348256543, frozenset({'HL1'}): 0.0}\n",
      "Running: {frozenset({'HL1', 'HL2full'}): 11385, frozenset({'HL1'}): 1}\n",
      "relative sample numbers:  {frozenset({'HL1', 'HL2full'}): 16.511310925437236, frozenset({'HL1'}): 0.0}\n",
      "Running: {frozenset({'HL1', 'HL2full'}): 11391, frozenset({'HL1'}): 1}\n",
      "relative sample numbers:  {frozenset({'HL1', 'HL2full'}): 19.582530573077868, frozenset({'HL1'}): 0.0}\n",
      "Running: {frozenset({'HL1', 'HL2full'}): 11396, frozenset({'HL1'}): 1}\n",
      "relative sample numbers:  {frozenset({'HL1', 'HL2full'}): 18.148684371103254, frozenset({'HL1'}): 0.0}\n",
      "Running: {frozenset({'HL1', 'HL2full'}): 11386, frozenset({'HL1'}): 1}\n",
      "relative sample numbers:  {frozenset({'HL1', 'HL2full'}): 19.554663218372195, frozenset({'HL1'}): 0.0}\n",
      "Running: {frozenset({'HL1', 'HL2full'}): 11396, frozenset({'HL1'}): 1}\n",
      "relative sample numbers:  {frozenset({'HL1', 'HL2full'}): 20.34043484352166, frozenset({'HL1'}): 0.0}\n",
      "Running: {frozenset({'HL1', 'HL2full'}): 11409, frozenset({'HL1'}): 1}\n",
      "relative sample numbers:  {frozenset({'HL1', 'HL2full'}): 20.871325952507362, frozenset({'HL1'}): 0.0}\n",
      "Running: {frozenset({'HL1', 'HL2full'}): 11399, frozenset({'HL1'}): 1}\n",
      "relative sample numbers:  {frozenset({'HL1', 'HL2full'}): 22.214635272846262, frozenset({'HL1'}): 0.0}\n",
      "Running: {frozenset({'HL1', 'HL2full'}): 11382, frozenset({'HL1'}): 1}\n",
      "\n",
      "Wall clock time: 605.0 s \tTotal sample generation: 603.0 s \tIndex specialisation: 600.0 s\n",
      "LOLP : 0.001211  +- 3.4e-05  \tcomputational speed:  2.11 \testimated speedup:  9.17\n",
      "EPNS : 0.1483 MW +- 0.0015 MW \tcomputational speed:  16.7 \testimated speedup:  99.0\n",
      "\n",
      "Index set and time estimates:\n",
      "HL2full : 0.0053 s\n",
      "HL1 : 0.0 s\n",
      "\n",
      "\n",
      "RESULTS BY ML INDEX\n",
      "index: HL1 \tcount:  114228 \tavg specialisation time: 0.023 ms\n",
      "\t LOLP : 0.001079  \t+- 0.0 \n",
      "\t EPNS : 0.1346 MW \t+- 0.0 MW\n",
      "index: HL2full \tcount:  114228 \tavg specialisation time: 5.23 ms\n",
      "\t LOLP : 0.001208  \t+- 0.0001 \n",
      "\t EPNS : 0.129 MW \t+- 0.015 MW\n",
      "\n",
      "RESULTS BY SET\n",
      "{'HL1', 'HL2full'} \tcount:  114228 \tavg exec time:  5.28 ms\n",
      "{'HL1'} \tcount:  0 \tavg exec time:  0.0 ms\n",
      "\n",
      "RESULTS BY TELESCOPIC TERM\n",
      "{'HL1', 'HL2full'}\n",
      "\t LOLP contribution: 0.0001313  \t+- 3.4e-05  \tsample correlation: 0.944\n",
      "\t EPNS contribution: 0.0137 MW \t+- 0.0015 MW \tsample correlation: 0.996\n",
      "{'HL1'}\n",
      "\t LOLP contribution: 0.001079  \t+- 0.0  \tsample correlation: n/a\n",
      "\t EPNS contribution: 0.1346 MW \t+- 0.0 MW \tsample correlation: n/a\n"
     ]
    }
   ],
   "source": [
    "mcc = MCCoordinator.MCCoordinator(RTS_system, ml_hierarchy=['HL2full', 'HL1'], use_expectations=True, use_joblib=False, joblib_batch_size=100)\n",
    "mcc.explore(n_samples=100)\n",
    "for i in range(10):\n",
    "    mcc.run_recommended(time_seconds=60, optimization_target='EPNS', verbose=False)\n",
    "mcc.verbose_result()"
   ]
  },
  {
   "cell_type": "code",
   "execution_count": 17,
   "metadata": {},
   "outputs": [
    {
     "name": "stdout",
     "output_type": "stream",
     "text": [
      "Running: {frozenset({'HL2full'}): 100}\n",
      "relative sample numbers:  {frozenset({'HL2full'}): 1.0}\n",
      "Running: {frozenset({'HL2full'}): 11023}\n",
      "relative sample numbers:  {frozenset({'HL2full'}): 56.500739870717375}\n",
      "Running: {frozenset({'HL2full'}): 11494}\n",
      "relative sample numbers:  {frozenset({'HL2full'}): 72.37066084914309}\n",
      "Running: {frozenset({'HL2full'}): 11465}\n",
      "relative sample numbers:  {frozenset({'HL2full'}): 78.79767987347054}\n",
      "Running: {frozenset({'HL2full'}): 11495}\n",
      "relative sample numbers:  {frozenset({'HL2full'}): 86.94747356578667}\n",
      "Running: {frozenset({'HL2full'}): 11496}\n",
      "relative sample numbers:  {frozenset({'HL2full'}): 93.27942540373935}\n",
      "Running: {frozenset({'HL2full'}): 11470}\n",
      "relative sample numbers:  {frozenset({'HL2full'}): 90.63565421627727}\n",
      "Running: {frozenset({'HL2full'}): 11474}\n",
      "relative sample numbers:  {frozenset({'HL2full'}): 92.3509282713587}\n",
      "Running: {frozenset({'HL2full'}): 11462}\n",
      "relative sample numbers:  {frozenset({'HL2full'}): 87.93832283100912}\n",
      "Running: {frozenset({'HL2full'}): 11385}\n",
      "relative sample numbers:  {frozenset({'HL2full'}): 85.27264609162503}\n",
      "Running: {frozenset({'HL2full'}): 11379}\n",
      "\n",
      "Wall clock time: 603.0 s \tTotal sample generation: 602.0 s \tIndex specialisation: 599.0 s\n",
      "LOLP : 0.001295  +- 0.00011  \tcomputational speed:  0.246 \testimated speedup:  0.998\n",
      "EPNS : 0.1549 MW +- 0.018 MW \tcomputational speed:  0.117 \testimated speedup:  0.998\n",
      "\n",
      "Index set and time estimates:\n",
      "HL2full : 0.0053 s\n",
      "\n",
      "\n",
      "RESULTS BY ML INDEX\n",
      "index: HL2full \tcount:  114243 \tavg specialisation time: 5.24 ms\n",
      "\t LOLP : 0.001295  \t+- 0.00011 \n",
      "\t EPNS : 0.1549 MW \t+- 0.018 MW\n",
      "\n",
      "RESULTS BY SET\n",
      "{'HL2full'} \tcount:  114243 \tavg exec time:  5.27 ms\n",
      "\n",
      "RESULTS BY TELESCOPIC TERM\n",
      "{'HL2full'}\n",
      "\t LOLP contribution: 0.001295  \t+- 0.00011  \tsample correlation: n/a\n",
      "\t EPNS contribution: 0.1549 MW \t+- 0.018 MW \tsample correlation: n/a\n"
     ]
    }
   ],
   "source": [
    "mcc = MCCoordinator.MCCoordinator(RTS_system, ml_hierarchy=['HL2full'], use_expectations=True, use_joblib=False, joblib_batch_size=100)\n",
    "mcc.explore(n_samples=100)\n",
    "for i in range(10):\n",
    "    mcc.run_recommended(time_seconds=60, optimization_target='EPNS', verbose=False)\n",
    "mcc.verbose_result()"
   ]
  },
  {
   "cell_type": "markdown",
   "metadata": {},
   "source": [
    "## Simple HL1 run\n",
    "Used in Table I"
   ]
  },
  {
   "cell_type": "code",
   "execution_count": 8,
   "metadata": {
    "scrolled": false
   },
   "outputs": [],
   "source": [
    "RTS_system = load_grid('../data/RTS/RTS', line_capacity_scaling=0.8, line_for_scaling=1)"
   ]
  },
  {
   "cell_type": "code",
   "execution_count": 10,
   "metadata": {},
   "outputs": [
    {
     "name": "stdout",
     "output_type": "stream",
     "text": [
      "Running: {frozenset({'HL1'}): 100}\n",
      "relative sample numbers:  {frozenset({'HL1'}): 1.0}\n",
      "Running: {frozenset({'HL1'}): 1}\n",
      "relative sample numbers:  {frozenset({'HL1'}): 1.0}\n",
      "Running: {frozenset({'HL1'}): 1}\n",
      "relative sample numbers:  {frozenset({'HL1'}): 1.0}\n",
      "Running: {frozenset({'HL1'}): 1}\n",
      "relative sample numbers:  {frozenset({'HL1'}): 1.0}\n",
      "Running: {frozenset({'HL1'}): 1}\n",
      "relative sample numbers:  {frozenset({'HL1'}): 1.0}\n",
      "Running: {frozenset({'HL1'}): 1}\n",
      "relative sample numbers:  {frozenset({'HL1'}): 1.0}\n",
      "Running: {frozenset({'HL1'}): 1}\n",
      "relative sample numbers:  {frozenset({'HL1'}): 1.0}\n",
      "Running: {frozenset({'HL1'}): 1}\n",
      "relative sample numbers:  {frozenset({'HL1'}): 1.0}\n",
      "Running: {frozenset({'HL1'}): 1}\n",
      "relative sample numbers:  {frozenset({'HL1'}): 1.0}\n",
      "Running: {frozenset({'HL1'}): 1}\n",
      "relative sample numbers:  {frozenset({'HL1'}): 1.0}\n",
      "Running: {frozenset({'HL1'}): 1}\n",
      "\n",
      "Wall clock time: 0.04 s \tTotal sample generation: 0.0 s \tIndex specialisation: 0.0 s\n",
      "LOLP : 0.001079  +- 0.0  \tcomputational speed:  n/a \testimated speedup:  n/a\n",
      "EPNS : 0.1346 MW +- 0.0 MW \tcomputational speed:  n/a \testimated speedup:  n/a\n",
      "\n",
      "Index set and time estimates:\n",
      "HL1 : 0.0 s\n",
      "\n",
      "\n",
      "RESULTS BY ML INDEX\n",
      "index: HL1 \tcount:  0 \tavg specialisation time: 0.0 ms\n",
      "\t LOLP : 0.001079  \t+- 0.0 \n",
      "\t EPNS : 0.1346 MW \t+- 0.0 MW\n",
      "\n",
      "RESULTS BY SET\n",
      "{'HL1'} \tcount:  0 \tavg exec time:  0.0 ms\n",
      "\n",
      "RESULTS BY TELESCOPIC TERM\n",
      "{'HL1'}\n",
      "\t LOLP contribution: 0.001079  \t+- 0.0  \tsample correlation: n/a\n",
      "\t EPNS contribution: 0.1346 MW \t+- 0.0 MW \tsample correlation: n/a\n"
     ]
    },
    {
     "name": "stderr",
     "output_type": "stream",
     "text": [
      "/Users/stindemans/Dropbox/code/MLMC/code/SummaryStats.py:83: RuntimeWarning: invalid value encountered in multiply\n",
      "  return self.m2/(self.count - 1) if (self.count > 1) else (math.inf * self.m2)\n"
     ]
    }
   ],
   "source": [
    "mcc = MCCoordinator.MCCoordinator(RTS_system, ml_hierarchy=['HL1'], use_expectations=True, use_joblib=False, joblib_batch_size=100)\n",
    "mcc.explore(n_samples=100)\n",
    "for i in range(10):\n",
    "    mcc.run_recommended(time_seconds=60, optimization_target='EPNS', verbose=False)\n",
    "mcc.verbose_result()"
   ]
  },
  {
   "cell_type": "code",
   "execution_count": 11,
   "metadata": {},
   "outputs": [
    {
     "name": "stdout",
     "output_type": "stream",
     "text": [
      "Running: {frozenset({'HL1'}): 100}\n",
      "relative sample numbers:  {frozenset({'HL1'}): 1.0}\n",
      "Running: {frozenset({'HL1'}): 1391761}\n",
      "relative sample numbers:  {frozenset({'HL1'}): 1058.5073617067874}\n",
      "Running: {frozenset({'HL1'}): 2209667}\n",
      "relative sample numbers:  {frozenset({'HL1'}): 1066.4777233367859}\n",
      "Running: {frozenset({'HL1'}): 2243240}\n",
      "relative sample numbers:  {frozenset({'HL1'}): 1083.1642776383667}\n",
      "Running: {frozenset({'HL1'}): 2253104}\n",
      "relative sample numbers:  {frozenset({'HL1'}): 1070.697177813339}\n",
      "Running: {frozenset({'HL1'}): 2260029}\n",
      "relative sample numbers:  {frozenset({'HL1'}): 1073.6140512683685}\n",
      "Running: {frozenset({'HL1'}): 2263048}\n",
      "relative sample numbers:  {frozenset({'HL1'}): 1076.9567545575485}\n",
      "Running: {frozenset({'HL1'}): 2265000}\n",
      "relative sample numbers:  {frozenset({'HL1'}): 1076.9317877344613}\n",
      "Running: {frozenset({'HL1'}): 2263658}\n",
      "relative sample numbers:  {frozenset({'HL1'}): 1078.8413266159812}\n",
      "Running: {frozenset({'HL1'}): 2266688}\n",
      "relative sample numbers:  {frozenset({'HL1'}): 1082.8546931126025}\n",
      "Running: {frozenset({'HL1'}): 2267430}\n",
      "\n",
      "Wall clock time: 678.0 s \tTotal sample generation: 574.0 s \tIndex specialisation: 272.0 s\n",
      "LOLP : 0.00107  +- 7e-06  \tcomputational speed:  34.3 \testimated speedup:  0.847\n",
      "EPNS : 0.1343 MW +- 0.0012 MW \tcomputational speed:  18.6 \testimated speedup:  0.847\n",
      "\n",
      "Index set and time estimates:\n",
      "HL1 : 2.6e-05 s\n",
      "\n",
      "\n",
      "RESULTS BY ML INDEX\n",
      "index: HL1 \tcount:  21683725 \tavg specialisation time: 0.0125 ms\n",
      "\t LOLP : 0.00107  \t+- 7e-06 \n",
      "\t EPNS : 0.1343 MW \t+- 0.0012 MW\n",
      "\n",
      "RESULTS BY SET\n",
      "{'HL1'} \tcount:  21683725 \tavg exec time:  0.0265 ms\n",
      "\n",
      "RESULTS BY TELESCOPIC TERM\n",
      "{'HL1'}\n",
      "\t LOLP contribution: 0.00107  \t+- 7e-06  \tsample correlation: n/a\n",
      "\t EPNS contribution: 0.1343 MW \t+- 0.0012 MW \tsample correlation: n/a\n"
     ]
    }
   ],
   "source": [
    "mcc = MCCoordinator.MCCoordinator(RTS_system, ml_hierarchy=['HL1'], use_expectations=False, use_joblib=False, joblib_batch_size=100)\n",
    "mcc.explore(n_samples=100)\n",
    "for i in range(10):\n",
    "    mcc.run_recommended(time_seconds=60, optimization_target='EPNS', verbose=False)\n",
    "mcc.verbose_result()"
   ]
  },
  {
   "cell_type": "markdown",
   "metadata": {},
   "source": [
    "# Storage case study"
   ]
  },
  {
   "cell_type": "code",
   "execution_count": 14,
   "metadata": {},
   "outputs": [],
   "source": [
    "def storage_system(**kwargs):\n",
    "    \"\"\"\n",
    "    Instantiate StorageSystem object using GB system data\n",
    "\n",
    "    :param wind_power: assumed wind power capacity (in MW)\n",
    "    :param kwargs: additional arguments to be supplied to the StorageSystem constructor\n",
    "    :return: StorageSystem object\n",
    "    \"\"\"\n",
    "\n",
    "    data = pd.read_csv('../data/UKdata/20161213_uk_wind_solar_demand_temperature.csv',\n",
    "                       parse_dates=['UTC Time', 'Local Time'], infer_datetime_format=True, dayfirst=True, index_col=0)\n",
    "\n",
    "    demand_data = data['demand_net'].dropna()['2006':'2015']\n",
    "    wind_data = 10000 * data['wind_merra1'].dropna()\n",
    "\n",
    "    demand_samples = {yeardata[0]: yeardata[1].values[:8760] for yeardata in\n",
    "                      demand_data.groupby(demand_data.index.year)}\n",
    "    wind_samples = {yeardata[0]: yeardata[1].values[:8760] for yeardata in wind_data.groupby(wind_data.index.year)}\n",
    "\n",
    "    dataframe = pd.read_csv('../data/UKdata/battery_data.csv')\n",
    "    store_power_list=3*dataframe['Power (MW)'][0:27]\n",
    "    store_energy_list=3*dataframe['Energy (MWh)'][0:27]\n",
    "\n",
    "    return StorageSampler.StorageSystem(demand_samples=demand_samples, \n",
    "                                        wind_samples=wind_samples, \n",
    "                                        store_power_list=store_power_list,\n",
    "                                        store_energy_list=store_energy_list,\n",
    "                                        **kwargs)"
   ]
  },
  {
   "cell_type": "code",
   "execution_count": 15,
   "metadata": {},
   "outputs": [
    {
     "name": "stdout",
     "output_type": "stream",
     "text": [
      "Generator set: [1200, 600, 600, 250, 250, 120, 60, 20, 20, 10, 10, 10]\n",
      "Optimising number of generator sets to LOLE target of 3 hours\n",
      "20 generator sets. Base LOLE=2.92 h; determined load offset of 36.15 MW to reach LOLE target.\n",
      "\n"
     ]
    }
   ],
   "source": [
    "# define and initialise system\n",
    "system = storage_system()"
   ]
  },
  {
   "cell_type": "markdown",
   "metadata": {},
   "source": [
    "## Optimal combination: M2, M1, M0\n",
    "Used in Table VI, VII"
   ]
  },
  {
   "cell_type": "code",
   "execution_count": 20,
   "metadata": {
    "scrolled": false
   },
   "outputs": [
    {
     "name": "stdout",
     "output_type": "stream",
     "text": [
      "Running: {frozenset({'OptimalNStore', 'GreedyNStore'}): 20, frozenset({'GreedyNStore', 'AvgStore'}): 20, frozenset({'AvgStore'}): 20}\n",
      "Optimizing for EENS\n",
      "relative sample numbers:  {frozenset({'OptimalNStore', 'GreedyNStore'}): 838.4662620071337, frozenset({'GreedyNStore', 'AvgStore'}): 7577.535052427264, frozenset({'AvgStore'}): 0.0}\n",
      "Running: {frozenset({'OptimalNStore', 'GreedyNStore'}): 17, frozenset({'GreedyNStore', 'AvgStore'}): 154, frozenset({'AvgStore'}): 1}\n",
      "Optimizing for EENS\n",
      "relative sample numbers:  {frozenset({'OptimalNStore', 'GreedyNStore'}): 640.2329329488565, frozenset({'GreedyNStore', 'AvgStore'}): 6342.134667573733, frozenset({'AvgStore'}): 0.0}\n",
      "Running: {frozenset({'OptimalNStore', 'GreedyNStore'}): 17, frozenset({'GreedyNStore', 'AvgStore'}): 177, frozenset({'AvgStore'}): 1}\n",
      "Optimizing for EENS\n",
      "relative sample numbers:  {frozenset({'OptimalNStore', 'GreedyNStore'}): 597.56062366947, frozenset({'GreedyNStore', 'AvgStore'}): 5987.682376047066, frozenset({'AvgStore'}): 0.0}\n",
      "Running: {frozenset({'OptimalNStore', 'GreedyNStore'}): 17, frozenset({'GreedyNStore', 'AvgStore'}): 179, frozenset({'AvgStore'}): 1}\n",
      "Optimizing for EENS\n",
      "relative sample numbers:  {frozenset({'OptimalNStore', 'GreedyNStore'}): 587.9174886490528, frozenset({'GreedyNStore', 'AvgStore'}): 5872.716057224605, frozenset({'AvgStore'}): 0.0}\n",
      "Running: {frozenset({'OptimalNStore', 'GreedyNStore'}): 17, frozenset({'GreedyNStore', 'AvgStore'}): 179, frozenset({'AvgStore'}): 1}\n",
      "Optimizing for EENS\n",
      "relative sample numbers:  {frozenset({'OptimalNStore', 'GreedyNStore'}): 588.3387103620289, frozenset({'GreedyNStore', 'AvgStore'}): 5818.028631962944, frozenset({'AvgStore'}): 0.0}\n",
      "Running: {frozenset({'OptimalNStore', 'GreedyNStore'}): 17, frozenset({'GreedyNStore', 'AvgStore'}): 175, frozenset({'AvgStore'}): 1}\n",
      "Optimizing for EENS\n",
      "relative sample numbers:  {frozenset({'OptimalNStore', 'GreedyNStore'}): 606.0933314415462, frozenset({'GreedyNStore', 'AvgStore'}): 6027.01430517101, frozenset({'AvgStore'}): 0.0}\n",
      "Running: {frozenset({'OptimalNStore', 'GreedyNStore'}): 17, frozenset({'GreedyNStore', 'AvgStore'}): 178, frozenset({'AvgStore'}): 1}\n",
      "Optimizing for EENS\n",
      "relative sample numbers:  {frozenset({'OptimalNStore', 'GreedyNStore'}): 670.9940630057218, frozenset({'GreedyNStore', 'AvgStore'}): 6612.6160751633015, frozenset({'AvgStore'}): 0.0}\n",
      "Running: {frozenset({'OptimalNStore', 'GreedyNStore'}): 17, frozenset({'GreedyNStore', 'AvgStore'}): 175, frozenset({'AvgStore'}): 1}\n",
      "Optimizing for EENS\n",
      "relative sample numbers:  {frozenset({'OptimalNStore', 'GreedyNStore'}): 663.6920600332556, frozenset({'GreedyNStore', 'AvgStore'}): 6568.897940799181, frozenset({'AvgStore'}): 0.0}\n",
      "Running: {frozenset({'OptimalNStore', 'GreedyNStore'}): 17, frozenset({'GreedyNStore', 'AvgStore'}): 177, frozenset({'AvgStore'}): 1}\n",
      "Optimizing for EENS\n",
      "relative sample numbers:  {frozenset({'OptimalNStore', 'GreedyNStore'}): 655.4407057332003, frozenset({'GreedyNStore', 'AvgStore'}): 6509.837163334083, frozenset({'AvgStore'}): 0.0}\n",
      "Running: {frozenset({'OptimalNStore', 'GreedyNStore'}): 17, frozenset({'GreedyNStore', 'AvgStore'}): 178, frozenset({'AvgStore'}): 1}\n",
      "Optimizing for EENS\n",
      "relative sample numbers:  {frozenset({'OptimalNStore', 'GreedyNStore'}): 657.5432354353353, frozenset({'GreedyNStore', 'AvgStore'}): 6561.770793585328, frozenset({'AvgStore'}): 0.0}\n",
      "Running: {frozenset({'OptimalNStore', 'GreedyNStore'}): 17, frozenset({'GreedyNStore', 'AvgStore'}): 179, frozenset({'AvgStore'}): 1}\n"
     ]
    }
   ],
   "source": [
    "# set up MLMC coordinator with link to system\n",
    "mcc = MCCoordinator.MCCoordinator(factory=system, \n",
    "                                  ml_hierarchy=['OptimalNStore','GreedyNStore','AvgStore'], \n",
    "                                  use_expectations=True, \n",
    "                                  use_joblib=False, joblib_n_jobs=-1, joblib_batch_size=5)\n",
    "\n",
    "mcc.explore(n_samples=20)\n",
    "\n",
    "for i in range(10):\n",
    "    mcc.run_recommended(time_seconds=60, verbose=True, optimization_target='EENS')\n"
   ]
  },
  {
   "cell_type": "code",
   "execution_count": 21,
   "metadata": {},
   "outputs": [
    {
     "name": "stdout",
     "output_type": "stream",
     "text": [
      "\n",
      "Wall clock time: 615.0 s \tTotal sample generation: 614.0 s \tIndex specialisation: 606.0 s\n",
      "LOLE : 1.722 h +- 0.026 h \tcomputational speed:  6.88 \testimated speedup:  52.6\n",
      "EENS : 2397.0 MWh +- 9.1 MWh \tcomputational speed:  112.0 \testimated speedup:  967.0\n",
      "\n",
      "Index set and time estimates:\n",
      "OptimalNStore : 1.7 s\n",
      "GreedyNStore : 0.17 s\n",
      "AvgStore : 0.0 s\n",
      "\n",
      "\n",
      "RESULTS BY ML INDEX\n",
      "index: OptimalNStore \tcount:  190 \tavg specialisation time: 1500.0 ms\n",
      "\t LOLE : 1.584 h \t+- 0.27 h\n",
      "\t EENS : 1862.0 MWh \t+- 400.0 MWh\n",
      "index: GreedyNStore \tcount:  1961 \tavg specialisation time: 164.0 ms\n",
      "\t LOLE : 1.787 h \t+- 0.099 h\n",
      "\t EENS : 2436.0 MWh \t+- 180.0 MWh\n",
      "index: AvgStore \tcount:  1771 \tavg specialisation time: 0.0425 ms\n",
      "\t LOLE : 2.142 h \t+- 0.0 h\n",
      "\t EENS : 2548.0 MWh \t+- 0.0 MWh\n",
      "\n",
      "RESULTS BY SET\n",
      "{'OptimalNStore', 'GreedyNStore'} \tcount:  190 \tavg exec time:  1670.0 ms\n",
      "{'GreedyNStore', 'AvgStore'} \tcount:  1771 \tavg exec time:  167.0 ms\n",
      "{'AvgStore'} \tcount:  0 \tavg exec time:  0.0 ms\n",
      "\n",
      "RESULTS BY TELESCOPIC TERM\n",
      "{'OptimalNStore', 'GreedyNStore'}\n",
      "\t LOLE contribution: 0.0 h \t+- 0.0 h \tsample correlation: 0.994\n",
      "\t EENS contribution: -0.5503 MWh \t+- 0.42 MWh \tsample correlation: 0.992\n",
      "{'GreedyNStore', 'AvgStore'}\n",
      "\t LOLE contribution: -0.4201 h \t+- 0.026 h \tsample correlation: 0.989\n",
      "\t EENS contribution: -150.4 MWh \t+- 9.1 MWh \tsample correlation: 0.998\n",
      "{'AvgStore'}\n",
      "\t LOLE contribution: 2.142 h \t+- 0.0 h \tsample correlation: n/a\n",
      "\t EENS contribution: 2548.0 MWh \t+- 0.0 MWh \tsample correlation: n/a\n"
     ]
    }
   ],
   "source": [
    "\n",
    "mcc.verbose_result()"
   ]
  },
  {
   "cell_type": "markdown",
   "metadata": {},
   "source": [
    "## Comparison: two level M2, M0\n",
    "Used in Table VI"
   ]
  },
  {
   "cell_type": "code",
   "execution_count": 22,
   "metadata": {},
   "outputs": [
    {
     "name": "stdout",
     "output_type": "stream",
     "text": [
      "Running: {frozenset({'OptimalNStore', 'AvgStore'}): 20, frozenset({'AvgStore'}): 20}\n",
      "relative sample numbers:  {frozenset({'OptimalNStore', 'AvgStore'}): 2968.7847403671776, frozenset({'AvgStore'}): 0.0}\n",
      "Running: {frozenset({'OptimalNStore', 'AvgStore'}): 39, frozenset({'AvgStore'}): 1}\n",
      "relative sample numbers:  {frozenset({'OptimalNStore', 'AvgStore'}): 2322.468854882883, frozenset({'AvgStore'}): 0.0}\n",
      "Running: {frozenset({'OptimalNStore', 'AvgStore'}): 39, frozenset({'AvgStore'}): 1}\n",
      "relative sample numbers:  {frozenset({'OptimalNStore', 'AvgStore'}): 1924.7343592590755, frozenset({'AvgStore'}): 0.0}\n",
      "Running: {frozenset({'OptimalNStore', 'AvgStore'}): 39, frozenset({'AvgStore'}): 1}\n",
      "relative sample numbers:  {frozenset({'OptimalNStore', 'AvgStore'}): 1674.716530574329, frozenset({'AvgStore'}): 0.0}\n",
      "Running: {frozenset({'OptimalNStore', 'AvgStore'}): 39, frozenset({'AvgStore'}): 1}\n",
      "relative sample numbers:  {frozenset({'OptimalNStore', 'AvgStore'}): 1671.256426649425, frozenset({'AvgStore'}): 0.0}\n",
      "Running: {frozenset({'OptimalNStore', 'AvgStore'}): 39, frozenset({'AvgStore'}): 1}\n",
      "relative sample numbers:  {frozenset({'OptimalNStore', 'AvgStore'}): 2552.565021735678, frozenset({'AvgStore'}): 0.0}\n",
      "Running: {frozenset({'OptimalNStore', 'AvgStore'}): 39, frozenset({'AvgStore'}): 1}\n",
      "relative sample numbers:  {frozenset({'OptimalNStore', 'AvgStore'}): 2399.4630485299826, frozenset({'AvgStore'}): 0.0}\n",
      "Running: {frozenset({'OptimalNStore', 'AvgStore'}): 39, frozenset({'AvgStore'}): 1}\n",
      "relative sample numbers:  {frozenset({'OptimalNStore', 'AvgStore'}): 2296.605151762622, frozenset({'AvgStore'}): 0.0}\n",
      "Running: {frozenset({'OptimalNStore', 'AvgStore'}): 39, frozenset({'AvgStore'}): 1}\n",
      "relative sample numbers:  {frozenset({'OptimalNStore', 'AvgStore'}): 2175.2044299739064, frozenset({'AvgStore'}): 0.0}\n",
      "Running: {frozenset({'OptimalNStore', 'AvgStore'}): 39, frozenset({'AvgStore'}): 1}\n",
      "relative sample numbers:  {frozenset({'OptimalNStore', 'AvgStore'}): 2079.190152359343, frozenset({'AvgStore'}): 0.0}\n",
      "Running: {frozenset({'OptimalNStore', 'AvgStore'}): 39, frozenset({'AvgStore'}): 1}\n"
     ]
    }
   ],
   "source": [
    "# set up MLMC coordinator with link to system\n",
    "mcc = MCCoordinator.MCCoordinator(factory=system, \n",
    "                                  ml_hierarchy=['OptimalNStore', 'AvgStore'], \n",
    "                                  use_expectations=True, \n",
    "                                  use_joblib=False, joblib_n_jobs=-1, joblib_batch_size=5)\n",
    "\n",
    "mcc.explore(n_samples=20)\n",
    "for i in range(10):\n",
    "    mcc.run_recommended(time_seconds=60, optimization_target='EENS')"
   ]
  },
  {
   "cell_type": "code",
   "execution_count": 23,
   "metadata": {},
   "outputs": [
    {
     "name": "stdout",
     "output_type": "stream",
     "text": [
      "\n",
      "Wall clock time: 618.0 s \tTotal sample generation: 618.0 s \tIndex specialisation: 617.0 s\n",
      "LOLE : 1.747 h +- 0.051 h \tcomputational speed:  1.88 \testimated speedup:  19.4\n",
      "EENS : 2415.0 MWh +- 16.0 MWh \tcomputational speed:  38.1 \testimated speedup:  797.0\n",
      "\n",
      "Index set and time estimates:\n",
      "OptimalNStore : 1.5 s\n",
      "AvgStore : 0.0 s\n",
      "\n",
      "\n",
      "RESULTS BY ML INDEX\n",
      "index: OptimalNStore \tcount:  410 \tavg specialisation time: 1500.0 ms\n",
      "\t LOLE : 1.79 h \t+- 0.23 h\n",
      "\t EENS : 2408.0 MWh \t+- 440.0 MWh\n",
      "index: AvgStore \tcount:  410 \tavg specialisation time: 0.0558 ms\n",
      "\t LOLE : 2.142 h \t+- 0.0 h\n",
      "\t EENS : 2548.0 MWh \t+- 0.0 MWh\n",
      "\n",
      "RESULTS BY SET\n",
      "{'OptimalNStore', 'AvgStore'} \tcount:  410 \tavg exec time:  1510.0 ms\n",
      "{'AvgStore'} \tcount:  0 \tavg exec time:  0.0 ms\n",
      "\n",
      "RESULTS BY TELESCOPIC TERM\n",
      "{'OptimalNStore', 'AvgStore'}\n",
      "\t LOLE contribution: -0.3951 h \t+- 0.051 h \tsample correlation: 0.978\n",
      "\t EENS contribution: -132.8 MWh \t+- 16.0 MWh \tsample correlation: 0.99\n",
      "{'AvgStore'}\n",
      "\t LOLE contribution: 2.142 h \t+- 0.0 h \tsample correlation: n/a\n",
      "\t EENS contribution: 2548.0 MWh \t+- 0.0 MWh \tsample correlation: n/a\n"
     ]
    }
   ],
   "source": [
    "mcc.verbose_result()"
   ]
  },
  {
   "cell_type": "markdown",
   "metadata": {},
   "source": [
    "## Comparison: direct simulation\n",
    "Used in Table V and VI"
   ]
  },
  {
   "cell_type": "code",
   "execution_count": 24,
   "metadata": {},
   "outputs": [
    {
     "name": "stdout",
     "output_type": "stream",
     "text": [
      "Running: {frozenset({'OptimalNStore'}): 20}\n",
      "relative sample numbers:  {frozenset({'OptimalNStore'}): 6082.986766288706}\n",
      "Running: {frozenset({'OptimalNStore'}): 39}\n",
      "relative sample numbers:  {frozenset({'OptimalNStore'}): 10815.754174148093}\n",
      "Running: {frozenset({'OptimalNStore'}): 39}\n",
      "relative sample numbers:  {frozenset({'OptimalNStore'}): 8594.659304990557}\n",
      "Running: {frozenset({'OptimalNStore'}): 39}\n",
      "relative sample numbers:  {frozenset({'OptimalNStore'}): 7355.328352647725}\n",
      "Running: {frozenset({'OptimalNStore'}): 39}\n",
      "relative sample numbers:  {frozenset({'OptimalNStore'}): 6649.740412700156}\n",
      "Running: {frozenset({'OptimalNStore'}): 39}\n",
      "relative sample numbers:  {frozenset({'OptimalNStore'}): 6201.872283158146}\n",
      "Running: {frozenset({'OptimalNStore'}): 39}\n",
      "relative sample numbers:  {frozenset({'OptimalNStore'}): 6019.982603699087}\n",
      "Running: {frozenset({'OptimalNStore'}): 39}\n",
      "relative sample numbers:  {frozenset({'OptimalNStore'}): 6101.86323528039}\n",
      "Running: {frozenset({'OptimalNStore'}): 39}\n",
      "relative sample numbers:  {frozenset({'OptimalNStore'}): 5783.360988115174}\n",
      "Running: {frozenset({'OptimalNStore'}): 39}\n",
      "relative sample numbers:  {frozenset({'OptimalNStore'}): 6373.279575311496}\n",
      "Running: {frozenset({'OptimalNStore'}): 39}\n"
     ]
    }
   ],
   "source": [
    "# set up MLMC coordinator with link to system\n",
    "mcc = MCCoordinator.MCCoordinator(factory=system, \n",
    "                                  ml_hierarchy=['OptimalNStore'], \n",
    "                                  use_expectations=True,\n",
    "                                  use_joblib=False, joblib_n_jobs=-1, joblib_batch_size=5)\n",
    "\n",
    "mcc.explore(n_samples=20)\n",
    "for i in range(10):\n",
    "    mcc.run_recommended(time_seconds=60, optimization_target='EENS')"
   ]
  },
  {
   "cell_type": "code",
   "execution_count": 25,
   "metadata": {
    "scrolled": false
   },
   "outputs": [
    {
     "name": "stdout",
     "output_type": "stream",
     "text": [
      "\n",
      "Wall clock time: 620.0 s \tTotal sample generation: 620.0 s \tIndex specialisation: 619.0 s\n",
      "LOLE : 1.539 h +- 0.19 h \tcomputational speed:  0.105 \testimated speedup:  1.0\n",
      "EENS : 2135.0 MWh +- 370.0 MWh \tcomputational speed:  0.0533 \testimated speedup:  1.0\n",
      "\n",
      "Index set and time estimates:\n",
      "OptimalNStore : 1.5 s\n",
      "\n",
      "\n",
      "RESULTS BY ML INDEX\n",
      "index: OptimalNStore \tcount:  410 \tavg specialisation time: 1510.0 ms\n",
      "\t LOLE : 1.539 h \t+- 0.19 h\n",
      "\t EENS : 2135.0 MWh \t+- 370.0 MWh\n",
      "\n",
      "RESULTS BY SET\n",
      "{'OptimalNStore'} \tcount:  410 \tavg exec time:  1510.0 ms\n",
      "\n",
      "RESULTS BY TELESCOPIC TERM\n",
      "{'OptimalNStore'}\n",
      "\t LOLE contribution: 1.539 h \t+- 0.19 h \tsample correlation: n/a\n",
      "\t EENS contribution: 2135.0 MWh \t+- 370.0 MWh \tsample correlation: n/a\n"
     ]
    }
   ],
   "source": [
    "mcc.verbose_result()"
   ]
  },
  {
   "cell_type": "markdown",
   "metadata": {},
   "source": [
    "## Comparison: three-level with no-store (M2-M1-M0')\n",
    "Used in Table VI"
   ]
  },
  {
   "cell_type": "code",
   "execution_count": 26,
   "metadata": {},
   "outputs": [
    {
     "name": "stdout",
     "output_type": "stream",
     "text": [
      "Running: {frozenset({'OptimalNStore', 'GreedyNStore'}): 20, frozenset({'GreedyNStore', 'NoStore'}): 20, frozenset({'NoStore'}): 20}\n",
      "relative sample numbers:  {frozenset({'OptimalNStore', 'GreedyNStore'}): 474.7771250973566, frozenset({'GreedyNStore', 'NoStore'}): 4842.206523644391, frozenset({'NoStore'}): 0.0}\n",
      "Running: {frozenset({'OptimalNStore', 'GreedyNStore'}): 17, frozenset({'GreedyNStore', 'NoStore'}): 180, frozenset({'NoStore'}): 1}\n",
      "relative sample numbers:  {frozenset({'OptimalNStore', 'GreedyNStore'}): 521.0746590484653, frozenset({'GreedyNStore', 'NoStore'}): 5979.708148513961, frozenset({'NoStore'}): 0.0}\n",
      "Running: {frozenset({'OptimalNStore', 'GreedyNStore'}): 17, frozenset({'GreedyNStore', 'NoStore'}): 196, frozenset({'NoStore'}): 1}\n",
      "relative sample numbers:  {frozenset({'OptimalNStore', 'GreedyNStore'}): 897.6878774200457, frozenset({'GreedyNStore', 'NoStore'}): 8928.097346575612, frozenset({'NoStore'}): 0.0}\n",
      "Running: {frozenset({'OptimalNStore', 'GreedyNStore'}): 18, frozenset({'GreedyNStore', 'NoStore'}): 180, frozenset({'NoStore'}): 1}\n",
      "relative sample numbers:  {frozenset({'OptimalNStore', 'GreedyNStore'}): 816.9583368492998, frozenset({'GreedyNStore', 'NoStore'}): 8035.35770139923, frozenset({'NoStore'}): 0.0}\n",
      "Running: {frozenset({'OptimalNStore', 'GreedyNStore'}): 18, frozenset({'GreedyNStore', 'NoStore'}): 177, frozenset({'NoStore'}): 1}\n",
      "relative sample numbers:  {frozenset({'OptimalNStore', 'GreedyNStore'}): 777.3635394692747, frozenset({'GreedyNStore', 'NoStore'}): 7801.614739726052, frozenset({'NoStore'}): 0.0}\n",
      "Running: {frozenset({'OptimalNStore', 'GreedyNStore'}): 18, frozenset({'GreedyNStore', 'NoStore'}): 183, frozenset({'NoStore'}): 1}\n",
      "relative sample numbers:  {frozenset({'OptimalNStore', 'GreedyNStore'}): 927.0918122791603, frozenset({'GreedyNStore', 'NoStore'}): 9311.421404078555, frozenset({'NoStore'}): 0.0}\n",
      "Running: {frozenset({'OptimalNStore', 'GreedyNStore'}): 18, frozenset({'GreedyNStore', 'NoStore'}): 184, frozenset({'NoStore'}): 1}\n",
      "relative sample numbers:  {frozenset({'OptimalNStore', 'GreedyNStore'}): 1000.6347326181354, frozenset({'GreedyNStore', 'NoStore'}): 10024.72505400871, frozenset({'NoStore'}): 0.0}\n",
      "Running: {frozenset({'OptimalNStore', 'GreedyNStore'}): 18, frozenset({'GreedyNStore', 'NoStore'}): 182, frozenset({'NoStore'}): 1}\n",
      "relative sample numbers:  {frozenset({'OptimalNStore', 'GreedyNStore'}): 964.7655607700326, frozenset({'GreedyNStore', 'NoStore'}): 9579.933282421182, frozenset({'NoStore'}): 0.0}\n",
      "Running: {frozenset({'OptimalNStore', 'GreedyNStore'}): 18, frozenset({'GreedyNStore', 'NoStore'}): 180, frozenset({'NoStore'}): 1}\n",
      "relative sample numbers:  {frozenset({'OptimalNStore', 'GreedyNStore'}): 955.5909493303002, frozenset({'GreedyNStore', 'NoStore'}): 9500.384002715371, frozenset({'NoStore'}): 0.0}\n",
      "Running: {frozenset({'OptimalNStore', 'GreedyNStore'}): 18, frozenset({'GreedyNStore', 'NoStore'}): 181, frozenset({'NoStore'}): 1}\n",
      "relative sample numbers:  {frozenset({'OptimalNStore', 'GreedyNStore'}): 974.357507134806, frozenset({'GreedyNStore', 'NoStore'}): 9675.757844621596, frozenset({'NoStore'}): 0.0}\n",
      "Running: {frozenset({'OptimalNStore', 'GreedyNStore'}): 18, frozenset({'GreedyNStore', 'NoStore'}): 180, frozenset({'NoStore'}): 1}\n"
     ]
    }
   ],
   "source": [
    "# set up MLMC coordinator with link to system\n",
    "mcc = MCCoordinator.MCCoordinator(factory=system, \n",
    "                                  ml_hierarchy=['OptimalNStore','GreedyNStore','NoStore'], \n",
    "                                  use_expectations=True, \n",
    "                                  use_joblib=False, joblib_n_jobs=-1, joblib_batch_size=5)\n",
    "\n",
    "mcc.explore(n_samples=20)\n",
    "for i in range(10):\n",
    "    mcc.run_recommended(time_seconds=60, optimization_target='EENS')"
   ]
  },
  {
   "cell_type": "code",
   "execution_count": 27,
   "metadata": {},
   "outputs": [
    {
     "name": "stdout",
     "output_type": "stream",
     "text": [
      "\n",
      "Wall clock time: 636.0 s \tTotal sample generation: 635.0 s \tIndex specialisation: 628.0 s\n",
      "LOLE : 1.592 h +- 0.06 h \tcomputational speed:  1.1 \testimated speedup:  9.33\n",
      "EENS : 2275.0 MWh +- 71.0 MWh \tcomputational speed:  1.61 \testimated speedup:  23.1\n",
      "\n",
      "Index set and time estimates:\n",
      "OptimalNStore : 1.6 s\n",
      "GreedyNStore : 0.17 s\n",
      "NoStore : 0.0 s\n",
      "\n",
      "\n",
      "RESULTS BY ML INDEX\n",
      "index: OptimalNStore \tcount:  198 \tavg specialisation time: 1500.0 ms\n",
      "\t LOLE : 1.323 h \t+- 0.26 h\n",
      "\t EENS : 1796.0 MWh \t+- 480.0 MWh\n",
      "index: GreedyNStore \tcount:  2041 \tavg specialisation time: 163.0 ms\n",
      "\t LOLE : 1.853 h \t+- 0.11 h\n",
      "\t EENS : 2625.0 MWh \t+- 210.0 MWh\n",
      "index: NoStore \tcount:  1843 \tavg specialisation time: 0.00158 ms\n",
      "\t LOLE : 3.0 h \t+- 0.0 h\n",
      "\t EENS : 3799.0 MWh \t+- 0.0 MWh\n",
      "\n",
      "RESULTS BY SET\n",
      "{'OptimalNStore', 'GreedyNStore'} \tcount:  198 \tavg exec time:  1640.0 ms\n",
      "{'GreedyNStore', 'NoStore'} \tcount:  1843 \tavg exec time:  168.0 ms\n",
      "{'NoStore'} \tcount:  0 \tavg exec time:  0.0 ms\n",
      "\n",
      "RESULTS BY TELESCOPIC TERM\n",
      "{'OptimalNStore', 'GreedyNStore'}\n",
      "\t LOLE contribution: 0.0 h \t+- 0.0 h \tsample correlation: 0.984\n",
      "\t EENS contribution: -0.1508 MWh \t+- 0.15 MWh \tsample correlation: 0.987\n",
      "{'GreedyNStore', 'NoStore'}\n",
      "\t LOLE contribution: -1.408 h \t+- 0.06 h \tsample correlation: 0.966\n",
      "\t EENS contribution: -1523.0 MWh \t+- 71.0 MWh \tsample correlation: 0.985\n",
      "{'NoStore'}\n",
      "\t LOLE contribution: 3.0 h \t+- 0.0 h \tsample correlation: n/a\n",
      "\t EENS contribution: 3799.0 MWh \t+- 0.0 MWh \tsample correlation: n/a\n"
     ]
    }
   ],
   "source": [
    "mcc.verbose_result()"
   ]
  },
  {
   "cell_type": "markdown",
   "metadata": {},
   "source": [
    "## Comparison: direct simulation of less accurate models\n",
    "Used for Table V. Where possible (models M0 and M0'), results are computed alongside direct estimation of expectations."
   ]
  },
  {
   "cell_type": "code",
   "execution_count": 16,
   "metadata": {},
   "outputs": [
    {
     "name": "stdout",
     "output_type": "stream",
     "text": [
      "Running: {frozenset({'GreedyNStore'}): 20}\n",
      "relative sample numbers:  {frozenset({'GreedyNStore'}): 15774.070884025656}\n",
      "Running: {frozenset({'GreedyNStore'}): 234}\n",
      "relative sample numbers:  {frozenset({'GreedyNStore'}): 21399.43686819916}\n",
      "Running: {frozenset({'GreedyNStore'}): 272}\n",
      "relative sample numbers:  {frozenset({'GreedyNStore'}): 21399.83484314624}\n",
      "Running: {frozenset({'GreedyNStore'}): 305}\n",
      "relative sample numbers:  {frozenset({'GreedyNStore'}): 32907.059038808104}\n",
      "Running: {frozenset({'GreedyNStore'}): 309}\n",
      "relative sample numbers:  {frozenset({'GreedyNStore'}): 30895.94370522232}\n",
      "Running: {frozenset({'GreedyNStore'}): 317}\n",
      "relative sample numbers:  {frozenset({'GreedyNStore'}): 28397.98612017454}\n",
      "Running: {frozenset({'GreedyNStore'}): 322}\n",
      "relative sample numbers:  {frozenset({'GreedyNStore'}): 27575.574517213885}\n",
      "Running: {frozenset({'GreedyNStore'}): 327}\n",
      "relative sample numbers:  {frozenset({'GreedyNStore'}): 26136.945761097166}\n",
      "Running: {frozenset({'GreedyNStore'}): 336}\n",
      "relative sample numbers:  {frozenset({'GreedyNStore'}): 24923.869402422806}\n",
      "Running: {frozenset({'GreedyNStore'}): 332}\n",
      "relative sample numbers:  {frozenset({'GreedyNStore'}): 24116.27826594341}\n",
      "Running: {frozenset({'GreedyNStore'}): 334}\n"
     ]
    }
   ],
   "source": [
    "# set up MLMC coordinator with link to system\n",
    "mcc = MCCoordinator.MCCoordinator(factory=system, \n",
    "                                  ml_hierarchy=['GreedyNStore'], \n",
    "                                  use_expectations=True,\n",
    "                                  use_joblib=False, joblib_n_jobs=-1, joblib_batch_size=5)\n",
    "\n",
    "mcc.explore(n_samples=20)\n",
    "for i in range(10):\n",
    "    mcc.run_recommended(time_seconds=60, optimization_target='EENS')"
   ]
  },
  {
   "cell_type": "code",
   "execution_count": 17,
   "metadata": {
    "scrolled": false
   },
   "outputs": [
    {
     "name": "stdout",
     "output_type": "stream",
     "text": [
      "\n",
      "Wall clock time: 556.0 s \tTotal sample generation: 556.0 s \tIndex specialisation: 543.0 s\n",
      "LOLE : 1.806 h +- 0.084 h \tcomputational speed:  0.825 \testimated speedup:  1.0\n",
      "EENS : 2592.0 MWh +- 180.0 MWh \tcomputational speed:  0.38 \testimated speedup:  1.0\n",
      "\n",
      "Index set and time estimates:\n",
      "GreedyNStore : 0.18 s\n",
      "\n",
      "\n",
      "RESULTS BY ML INDEX\n",
      "index: GreedyNStore \tcount:  3108 \tavg specialisation time: 175.0 ms\n",
      "\t LOLE : 1.806 h \t+- 0.084 h\n",
      "\t EENS : 2592.0 MWh \t+- 180.0 MWh\n",
      "\n",
      "RESULTS BY SET\n",
      "{'GreedyNStore'} \tcount:  3108 \tavg exec time:  179.0 ms\n",
      "\n",
      "RESULTS BY TELESCOPIC TERM\n",
      "{'GreedyNStore'}\n",
      "\t LOLE contribution: 1.806 h \t+- 0.084 h \tsample correlation: n/a\n",
      "\t EENS contribution: 2592.0 MWh \t+- 180.0 MWh \tsample correlation: n/a\n"
     ]
    }
   ],
   "source": [
    "mcc.verbose_result()"
   ]
  },
  {
   "cell_type": "code",
   "execution_count": 18,
   "metadata": {},
   "outputs": [
    {
     "name": "stdout",
     "output_type": "stream",
     "text": [
      "Running: {frozenset({'AvgStore'}): 20}\n",
      "relative sample numbers:  {frozenset({'AvgStore'}): 31541.628450953045}\n",
      "Running: {frozenset({'AvgStore'}): 16604}\n",
      "relative sample numbers:  {frozenset({'AvgStore'}): 141875.59344635985}\n",
      "Running: {frozenset({'AvgStore'}): 16387}\n",
      "relative sample numbers:  {frozenset({'AvgStore'}): 142742.2667435453}\n",
      "Running: {frozenset({'AvgStore'}): 16329}\n",
      "relative sample numbers:  {frozenset({'AvgStore'}): 141038.36514342038}\n",
      "Running: {frozenset({'AvgStore'}): 16208}\n",
      "relative sample numbers:  {frozenset({'AvgStore'}): 143354.52093195997}\n",
      "Running: {frozenset({'AvgStore'}): 16120}\n",
      "relative sample numbers:  {frozenset({'AvgStore'}): 142929.09968010103}\n",
      "Running: {frozenset({'AvgStore'}): 16050}\n",
      "relative sample numbers:  {frozenset({'AvgStore'}): 144871.6815459249}\n",
      "Running: {frozenset({'AvgStore'}): 16106}\n",
      "relative sample numbers:  {frozenset({'AvgStore'}): 145911.59604340518}\n",
      "Running: {frozenset({'AvgStore'}): 16012}\n",
      "relative sample numbers:  {frozenset({'AvgStore'}): 145121.7429445896}\n",
      "Running: {frozenset({'AvgStore'}): 15956}\n",
      "relative sample numbers:  {frozenset({'AvgStore'}): 144474.45359822107}\n",
      "Running: {frozenset({'AvgStore'}): 15941}\n",
      "\n",
      "Wall clock time: 611.0 s \tTotal sample generation: 609.0 s \tIndex specialisation: 10.2 s\n",
      "LOLE : 2.149 h +- 0.013 h \tcomputational speed:  41.9 \testimated speedup:  0.997\n",
      "EENS : 2560.0 MWh +- 22.0 MWh \tcomputational speed:  22.1 \testimated speedup:  0.997\n",
      "\n",
      "Index set and time estimates:\n",
      "AvgStore : 0.0038 s\n",
      "\n",
      "\n",
      "RESULTS BY ML INDEX\n",
      "index: AvgStore \tcount:  161733 \tavg specialisation time: 0.0629 ms\n",
      "\t LOLE : 2.149 h \t+- 0.013 h\n",
      "\t EENS : 2560.0 MWh \t+- 22.0 MWh\n",
      "\n",
      "RESULTS BY SET\n",
      "{'AvgStore'} \tcount:  161733 \tavg exec time:  3.77 ms\n",
      "\n",
      "RESULTS BY TELESCOPIC TERM\n",
      "{'AvgStore'}\n",
      "\t LOLE contribution: 2.149 h \t+- 0.013 h \tsample correlation: n/a\n",
      "\t EENS contribution: 2560.0 MWh \t+- 22.0 MWh \tsample correlation: n/a\n"
     ]
    }
   ],
   "source": [
    "# set up MLMC coordinator with link to system\n",
    "mcc = MCCoordinator.MCCoordinator(factory=system, \n",
    "                                  ml_hierarchy=['AvgStore'], \n",
    "                                  use_expectations=False,\n",
    "                                  use_joblib=False, joblib_n_jobs=-1, joblib_batch_size=5)\n",
    "\n",
    "mcc.explore(n_samples=20)\n",
    "for i in range(10):\n",
    "    mcc.run_recommended(time_seconds=60, optimization_target='EENS')\n",
    "\n",
    "mcc.verbose_result()"
   ]
  },
  {
   "cell_type": "code",
   "execution_count": 19,
   "metadata": {
    "scrolled": false
   },
   "outputs": [
    {
     "name": "stdout",
     "output_type": "stream",
     "text": [
      "Running: {frozenset({'AvgStore'}): 20}\n",
      "relative sample numbers:  {frozenset({'AvgStore'}): 1.0}\n",
      "Running: {frozenset({'AvgStore'}): 1}\n",
      "relative sample numbers:  {frozenset({'AvgStore'}): 1.0}\n",
      "Running: {frozenset({'AvgStore'}): 1}\n",
      "relative sample numbers:  {frozenset({'AvgStore'}): 1.0}\n",
      "Running: {frozenset({'AvgStore'}): 1}\n",
      "relative sample numbers:  {frozenset({'AvgStore'}): 1.0}\n",
      "Running: {frozenset({'AvgStore'}): 1}\n",
      "relative sample numbers:  {frozenset({'AvgStore'}): 1.0}\n",
      "Running: {frozenset({'AvgStore'}): 1}\n",
      "relative sample numbers:  {frozenset({'AvgStore'}): 1.0}\n",
      "Running: {frozenset({'AvgStore'}): 1}\n",
      "relative sample numbers:  {frozenset({'AvgStore'}): 1.0}\n",
      "Running: {frozenset({'AvgStore'}): 1}\n",
      "relative sample numbers:  {frozenset({'AvgStore'}): 1.0}\n",
      "Running: {frozenset({'AvgStore'}): 1}\n",
      "relative sample numbers:  {frozenset({'AvgStore'}): 1.0}\n",
      "Running: {frozenset({'AvgStore'}): 1}\n",
      "relative sample numbers:  {frozenset({'AvgStore'}): 1.0}\n",
      "Running: {frozenset({'AvgStore'}): 1}\n",
      "\n",
      "Wall clock time: 0.779 s \tTotal sample generation: 0.0 s \tIndex specialisation: 0.0 s\n",
      "LOLE : 2.142 h +- 0.0 h \tcomputational speed:  n/a \testimated speedup:  n/a\n",
      "EENS : 2548.0 MWh +- 0.0 MWh \tcomputational speed:  n/a \testimated speedup:  n/a\n",
      "\n",
      "Index set and time estimates:\n",
      "AvgStore : 0.0 s\n",
      "\n",
      "\n",
      "RESULTS BY ML INDEX\n",
      "index: AvgStore \tcount:  0 \tavg specialisation time: 0.0 ms\n",
      "\t LOLE : 2.142 h \t+- 0.0 h\n",
      "\t EENS : 2548.0 MWh \t+- 0.0 MWh\n",
      "\n",
      "RESULTS BY SET\n",
      "{'AvgStore'} \tcount:  0 \tavg exec time:  0.0 ms\n",
      "\n",
      "RESULTS BY TELESCOPIC TERM\n",
      "{'AvgStore'}\n",
      "\t LOLE contribution: 2.142 h \t+- 0.0 h \tsample correlation: n/a\n",
      "\t EENS contribution: 2548.0 MWh \t+- 0.0 MWh \tsample correlation: n/a\n"
     ]
    },
    {
     "name": "stderr",
     "output_type": "stream",
     "text": [
      "/Users/stindemans/Dropbox/code/MLMC/code/SummaryStats.py:83: RuntimeWarning: invalid value encountered in multiply\n",
      "  return self.m2/(self.count - 1) if (self.count > 1) else (math.inf * self.m2)\n"
     ]
    }
   ],
   "source": [
    "# set up MLMC coordinator with link to system\n",
    "mcc = MCCoordinator.MCCoordinator(factory=system, \n",
    "                                  ml_hierarchy=['AvgStore'], \n",
    "                                  use_expectations=True,\n",
    "                                  use_joblib=False, joblib_n_jobs=-1, joblib_batch_size=5)\n",
    "\n",
    "mcc.explore(n_samples=20)\n",
    "for i in range(10):\n",
    "    mcc.run_recommended(time_seconds=60, optimization_target='EENS')\n",
    "    \n",
    "mcc.verbose_result()"
   ]
  },
  {
   "cell_type": "code",
   "execution_count": null,
   "metadata": {},
   "outputs": [],
   "source": []
  },
  {
   "cell_type": "code",
   "execution_count": 21,
   "metadata": {
    "scrolled": false
   },
   "outputs": [
    {
     "name": "stdout",
     "output_type": "stream",
     "text": [
      "Running: {frozenset({'NoStore'}): 20}\n",
      "relative sample numbers:  {frozenset({'NoStore'}): 49189.21804035297}\n",
      "Running: {frozenset({'NoStore'}): 13186}\n",
      "relative sample numbers:  {frozenset({'NoStore'}): 179679.72722426293}\n",
      "Running: {frozenset({'NoStore'}): 16436}\n",
      "relative sample numbers:  {frozenset({'NoStore'}): 177945.43521757075}\n",
      "Running: {frozenset({'NoStore'}): 16196}\n",
      "relative sample numbers:  {frozenset({'NoStore'}): 178224.82287144059}\n",
      "Running: {frozenset({'NoStore'}): 16458}\n",
      "relative sample numbers:  {frozenset({'NoStore'}): 179045.71544893793}\n",
      "Running: {frozenset({'NoStore'}): 16801}\n",
      "relative sample numbers:  {frozenset({'NoStore'}): 177524.10475070056}\n",
      "Running: {frozenset({'NoStore'}): 16871}\n",
      "relative sample numbers:  {frozenset({'NoStore'}): 177315.40694473992}\n",
      "Running: {frozenset({'NoStore'}): 16795}\n",
      "relative sample numbers:  {frozenset({'NoStore'}): 177633.98593589535}\n",
      "Running: {frozenset({'NoStore'}): 16841}\n",
      "relative sample numbers:  {frozenset({'NoStore'}): 178000.02715848436}\n",
      "Running: {frozenset({'NoStore'}): 16832}\n",
      "relative sample numbers:  {frozenset({'NoStore'}): 179689.70536113516}\n",
      "Running: {frozenset({'NoStore'}): 16845}\n",
      "\n",
      "Wall clock time: 588.0 s \tTotal sample generation: 586.0 s \tIndex specialisation: 8.01 s\n",
      "LOLE : 2.999 h +- 0.016 h \tcomputational speed:  61.7 \testimated speedup:  0.997\n",
      "EENS : 3786.0 MWh +- 26.0 MWh \tcomputational speed:  34.8 \testimated speedup:  0.997\n",
      "\n",
      "Index set and time estimates:\n",
      "NoStore : 0.0036 s\n",
      "\n",
      "\n",
      "RESULTS BY ML INDEX\n",
      "index: NoStore \tcount:  163281 \tavg specialisation time: 0.0491 ms\n",
      "\t LOLE : 2.999 h \t+- 0.016 h\n",
      "\t EENS : 3786.0 MWh \t+- 26.0 MWh\n",
      "\n",
      "RESULTS BY SET\n",
      "{'NoStore'} \tcount:  163281 \tavg exec time:  3.59 ms\n",
      "\n",
      "RESULTS BY TELESCOPIC TERM\n",
      "{'NoStore'}\n",
      "\t LOLE contribution: 2.999 h \t+- 0.016 h \tsample correlation: n/a\n",
      "\t EENS contribution: 3786.0 MWh \t+- 26.0 MWh \tsample correlation: n/a\n"
     ]
    }
   ],
   "source": [
    "# set up MLMC coordinator with link to system\n",
    "mcc = MCCoordinator.MCCoordinator(factory=system, \n",
    "                                  ml_hierarchy=['NoStore'], \n",
    "                                  use_expectations=False,\n",
    "                                  use_joblib=False, joblib_n_jobs=-1, joblib_batch_size=5)\n",
    "\n",
    "mcc.explore(n_samples=20)\n",
    "for i in range(10):\n",
    "    mcc.run_recommended(time_seconds=60, optimization_target='EENS')\n",
    "    \n",
    "mcc.verbose_result()"
   ]
  },
  {
   "cell_type": "code",
   "execution_count": 20,
   "metadata": {
    "scrolled": false
   },
   "outputs": [
    {
     "name": "stdout",
     "output_type": "stream",
     "text": [
      "Running: {frozenset({'NoStore'}): 20}\n",
      "relative sample numbers:  {frozenset({'NoStore'}): 1.0}\n",
      "Running: {frozenset({'NoStore'}): 1}\n",
      "relative sample numbers:  {frozenset({'NoStore'}): 1.0}\n",
      "Running: {frozenset({'NoStore'}): 1}\n",
      "relative sample numbers:  {frozenset({'NoStore'}): 1.0}\n",
      "Running: {frozenset({'NoStore'}): 1}\n",
      "relative sample numbers:  {frozenset({'NoStore'}): 1.0}\n",
      "Running: {frozenset({'NoStore'}): 1}\n",
      "relative sample numbers:  {frozenset({'NoStore'}): 1.0}\n",
      "Running: {frozenset({'NoStore'}): 1}\n",
      "relative sample numbers:  {frozenset({'NoStore'}): 1.0}\n",
      "Running: {frozenset({'NoStore'}): 1}\n",
      "relative sample numbers:  {frozenset({'NoStore'}): 1.0}\n",
      "Running: {frozenset({'NoStore'}): 1}\n",
      "relative sample numbers:  {frozenset({'NoStore'}): 1.0}\n",
      "Running: {frozenset({'NoStore'}): 1}\n",
      "relative sample numbers:  {frozenset({'NoStore'}): 1.0}\n",
      "Running: {frozenset({'NoStore'}): 1}\n",
      "relative sample numbers:  {frozenset({'NoStore'}): 1.0}\n",
      "Running: {frozenset({'NoStore'}): 1}\n",
      "\n",
      "Wall clock time: 0.764 s \tTotal sample generation: 0.0 s \tIndex specialisation: 0.0 s\n",
      "LOLE : 3.0 h +- 0.0 h \tcomputational speed:  n/a \testimated speedup:  n/a\n",
      "EENS : 3799.0 MWh +- 0.0 MWh \tcomputational speed:  n/a \testimated speedup:  n/a\n",
      "\n",
      "Index set and time estimates:\n",
      "NoStore : 0.0 s\n",
      "\n",
      "\n",
      "RESULTS BY ML INDEX\n",
      "index: NoStore \tcount:  0 \tavg specialisation time: 0.0 ms\n",
      "\t LOLE : 3.0 h \t+- 0.0 h\n",
      "\t EENS : 3799.0 MWh \t+- 0.0 MWh\n",
      "\n",
      "RESULTS BY SET\n",
      "{'NoStore'} \tcount:  0 \tavg exec time:  0.0 ms\n",
      "\n",
      "RESULTS BY TELESCOPIC TERM\n",
      "{'NoStore'}\n",
      "\t LOLE contribution: 3.0 h \t+- 0.0 h \tsample correlation: n/a\n",
      "\t EENS contribution: 3799.0 MWh \t+- 0.0 MWh \tsample correlation: n/a\n"
     ]
    }
   ],
   "source": [
    "# set up MLMC coordinator with link to system\n",
    "mcc = MCCoordinator.MCCoordinator(factory=system, \n",
    "                                  ml_hierarchy=['NoStore'], \n",
    "                                  use_expectations=True,\n",
    "                                  use_joblib=False, joblib_n_jobs=-1, joblib_batch_size=5)\n",
    "\n",
    "mcc.explore(n_samples=20)\n",
    "for i in range(10):\n",
    "    mcc.run_recommended(time_seconds=60, optimization_target='EENS')\n",
    "    \n",
    "mcc.verbose_result()"
   ]
  },
  {
   "cell_type": "code",
   "execution_count": null,
   "metadata": {},
   "outputs": [],
   "source": []
  }
 ],
 "metadata": {
  "kernelspec": {
   "display_name": "Python 3",
   "language": "python",
   "name": "python3"
  },
  "language_info": {
   "codemirror_mode": {
    "name": "ipython",
    "version": 3
   },
   "file_extension": ".py",
   "mimetype": "text/x-python",
   "name": "python",
   "nbconvert_exporter": "python",
   "pygments_lexer": "ipython3",
   "version": "3.7.7"
  }
 },
 "nbformat": 4,
 "nbformat_minor": 2
}
